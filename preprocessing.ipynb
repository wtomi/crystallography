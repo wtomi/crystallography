{
 "cells": [
  {
   "cell_type": "markdown",
   "metadata": {},
   "source": [
    "### This file contains helpful code snippets used for minor preprocessing of metadata\n",
    "\n",
    "### language: Groovy"
   ]
  },
  {
   "cell_type": "markdown",
   "metadata": {},
   "source": [
    "### Get columns name from columns descriptions"
   ]
  },
  {
   "cell_type": "code",
   "execution_count": 2,
   "metadata": {},
   "outputs": [
    {
     "data": {
      "text/plain": [
       "null"
      ]
     },
     "execution_count": 2,
     "metadata": {},
     "output_type": "execute_result"
    }
   ],
   "source": [
    "columnsDescriptions = \"\"\"\n",
    "title: nazwa łącząca pdb_code (nazwę wpisu do bazy PDB), res_name (nazwę ligandu), res_id, i chain_id;\n",
    "pbd_code: identyfikator pliku PDB;\n",
    "res_name: nazwa ligandu, czyli opisanej w wierszu cząsteczki chemicznej (etykieta klasy);\n",
    "res_id: identyfikator reszty w pliku PDB (umiejscowienie cząsteczki w białku);\n",
    "chain_id: identyfikator łańcucha w pliku PDB (umiejscowienie cząsteczki w białku);\n",
    "\n",
    "local_BAa, local_NPa, local_Ra, local_RGa, local_SRGa, local_CCSa, local_CCPa, local_ZOa, local_ZDa, local_ZD_minus_a, local_ZD_plus_a: te zmienne to miary jakości struktury zapisanej w PDB;\n",
    "\n",
    "local_res_atom_count local_res_atom_non_h_count local_res_atom_non_h_occupancy_sum local_res_atom_non_h_electron_sum local_res_atom_non_h_electron_occupancy_sum local_res_atom_C_count local_res_atom_N_count local_res_atom_O_count local_res_atom_S_count: liczba atomów i elektronów ligandu zamodelowana w pliku PDB;\n",
    "\n",
    "dict_atom_non_h_count dict_atom_non_h_electron_sum dict_atom_C_count dict_atom_N_count dict_atom_O_count dict_atom_S_count: liczba atomów i elektronów wyliczona na podstawie danych słownikowych (“tablicy pierwiastków”);\n",
    "\n",
    "part_XX: kolumny zaczynające się od “part_” opisują wartości obliczone tylko na podstawie ligandu; liczba pojawiająca się po “part_” koduje próg odcięcia intensywności; atrybuty obliczone dla każdego poziomu odcięcia zostały opisane poniżej:\n",
    "\n",
    "blob_electron_sum: szacowana liczba elektronów;\n",
    "blob_volume_sum: szacowana objętość cząsteczki;\n",
    "blob_parts: liczba rozdzielnych części;\n",
    "\n",
    "shape: maska kształtu;\n",
    "density: ,maska gęstości elektronowej;\n",
    "\n",
    "O3, O4, O5, FL: niezmienniki kształtu opisane w artykule “Moment invariants as shape recognition technique for comparing protein binding sites”, Sommer et al.\n",
    "I1, I2, I3, I4, I5, I6: niezmienniki kształtu opisane w artykule “3-D Surface Moment Invariants”, Xu i Li\n",
    "M000: moment zerowy (licznik potrzebny do obliczeń - brak interpretacji fizycznej);\n",
    "\n",
    "E1, E2, E3: wartości własne macierzy kowariancji obliczonej dla kształtu i gęstości; E1 to największa wartość własna, E3 najmniejsza; E3_E1 to E3 podzielone przez E1, id., sqrt oznacza pierwiastek danej wartości własnej;\n",
    "\n",
    "norm: niezmienniki kształtu znormalizowane aby były niezmienne ze względu rotację, translację i skalę;\n",
    "scaled: wartości niezmienne ze względu rotację, translację, ale nie skalę;\n",
    "\n",
    "local_volume: objętość dla progu odcięcia 6 x FoFc_std;\n",
    "local_electrons: liczba elektronów dla progu odcięcia 6 x FoFc_std;\n",
    "local_mean: średnia gęstość elektronowa dla progu odcięcia 6 x FoFc_std;\n",
    "local_std: odchylenie standardowe średniej gęstości elektronowej dla progu odcięcia 6 x FoFc_std;\n",
    "local_min: minimalna gęstość elektronowa dla progu odcięcia 6 x FoFc_std;\n",
    "local_max: maksymalna gęstość elektronowa dla progu odcięcia 6 x FoFc_std;\n",
    "local_skewness: skośność dla progu odcięcia 6 x FoFc_std;\n",
    "local_parts: liczba rozdzielnych części dla progu odcięcia 6 x FoFc_std;\n",
    "\n",
    "TwoFoFc_mean, TwoFoFc_std TwoFoFc_square_std TwoFoFc_min TwoFoFc_max: to samo co dla local tylko bez progowania (TwoFoFc = 2Fo-Fc);\n",
    "Fo_mean Fo_std Fo_square_std Fo_min Fo_max: to samo co dla local tylko bez progowania dla mapy Fo (Fo = observed);\n",
    "FoFc_mean FoFc_std FoFc_square_std FoFc_min FoFc_max: to samo co dla local tylko bez progowania dla mapy FoFc (FoFc = Fo-Fc = error/residual map);\n",
    "Fc_mean Fc_std Fc_square_std Fc_min Fc_max: to samo co dla local tylko bez progowania dla mapy Fc (Fc = calculated);\n",
    "\n",
    "fo_col, fc_col, weight_col, grid_space, solvent_radius, solvent_opening_radius: parametry wykorzystane podczas tworzenia zbioru;\n",
    "resolution: maksymalna rozdzielczość analizowanych danych;\n",
    "\n",
    "solvent_mask_count: rozmiar maski rozpuszczalnika;\n",
    "void_mask_count: rozmiar maski pustego obszaru;\n",
    "modeled_mask_count: rozmiar maski ligandu;\n",
    "solvent_ratio: solvent/(solvent+void+modeled);\n",
    "\n",
    "TwoFoFc_bulk_mean, TwoFoFc_bulk_std, TwoFoFc_void_mean, TwoFoFc_void_std, TwoFoFc_modeled_mean, TwoFoFc_modeled_std: globalne statystyki dla mapy TWoFoFc;\n",
    "Fo_bulk_mean, Fo_bulk_std, Fo_void_mean, Fo_void_std, Fo_modeled_mean, Fo_modeled_std: globalne statystyki dla mapy Fo;\n",
    "Fc_bulk_mean, Fc_bulk_std, Fc_void_mean, Fc_void_std, Fc_modeled_mean, Fc_modeled_std: globalne statystyki dla mapy Fc;\n",
    "FoFc_bulk_mean, FoFc_bulk_std, FoFc_void_mean, FoFc_void_std, FoFc_modeled_mean, FoFc_modeled_std: globalne statystyki dla mapy FoFc;\n",
    "TwoFoFc_void_fit_binormal_mean1, TwoFoFc_void_fit_binormal_std1, TwoFoFc_void_fit_binormal_mean2, TwoFoFc_void_fit_binormal_std2, TwoFoFc_void_fit_binormal_scale, TwoFoFc_solvent_fit_normal_mean, TwoFoFc_solvent_fit_normal_std: dopasowanie do wybranych rozkładów danych;\n",
    "\n",
    "part_step_FoFc_std_min: minimalny próg maskowania (dla part_00);\n",
    "part_step_FoFc_std_max: maksymalny próg maskowania (dla part_10);\n",
    "part_step_FoFc_std_step: krok maskowania (dł/szer./wys. piksela maski).\n",
    "\"\"\"\n",
    "\n",
    "null"
   ]
  },
  {
   "cell_type": "code",
   "execution_count": 19,
   "metadata": {},
   "outputs": [
    {
     "data": {
      "text/plain": [
       "[title, pbd_code, res_name, res_id, chain_id, local_BAa, local_NPa, local_Ra, local_RGa, local_SRGa, local_CCSa, local_CCPa, local_ZOa, local_ZDa, local_ZD_minus_a, local_ZD_plus_a, local_res_atom_count local_res_atom_non_h_count local_res_atom_non_h_occupancy_sum local_res_atom_non_h_electron_sum local_res_atom_non_h_electron_occupancy_sum local_res_atom_C_count local_res_atom_N_count local_res_atom_O_count local_res_atom_S_count, dict_atom_non_h_count dict_atom_non_h_electron_sum dict_atom_C_count dict_atom_N_count dict_atom_O_count dict_atom_S_count, part_XX,  kolumny zaczynające się od “part_” opisują wartości obliczone tylko na podstawie ligandu; liczba pojawiająca się po “part_” koduje próg odcięcia intensywności; atrybuty obliczone dla każdego poziomu odcięcia zostały opisane poniżej, blob_electron_sum, blob_volume_sum, blob_parts, shape, density, O3, O4, O5, FL, I1, I2, I3, I4, I5, I6, M000, E1, E2, E3, norm, scaled, local_volume, local_electrons, local_mean, local_std, local_min, local_max, local_skewness, local_parts, TwoFoFc_mean, TwoFoFc_std TwoFoFc_square_std TwoFoFc_min TwoFoFc_max, Fo_mean Fo_std Fo_square_std Fo_min Fo_max, FoFc_mean FoFc_std FoFc_square_std FoFc_min FoFc_max, Fc_mean Fc_std Fc_square_std Fc_min Fc_max, fo_col, fc_col, weight_col, grid_space, solvent_radius, solvent_opening_radius, resolution, solvent_mask_count, void_mask_count, modeled_mask_count, solvent_ratio, TwoFoFc_bulk_mean, TwoFoFc_bulk_std, TwoFoFc_void_mean, TwoFoFc_void_std, TwoFoFc_modeled_mean, TwoFoFc_modeled_std, Fo_bulk_mean, Fo_bulk_std, Fo_void_mean, Fo_void_std, Fo_modeled_mean, Fo_modeled_std, Fc_bulk_mean, Fc_bulk_std, Fc_void_mean, Fc_void_std, Fc_modeled_mean, Fc_modeled_std, FoFc_bulk_mean, FoFc_bulk_std, FoFc_void_mean, FoFc_void_std, FoFc_modeled_mean, FoFc_modeled_std, TwoFoFc_void_fit_binormal_mean1, TwoFoFc_void_fit_binormal_std1, TwoFoFc_void_fit_binormal_mean2, TwoFoFc_void_fit_binormal_std2, TwoFoFc_void_fit_binormal_scale, TwoFoFc_solvent_fit_normal_mean, TwoFoFc_solvent_fit_normal_std, part_step_FoFc_std_min, part_step_FoFc_std_max, part_step_FoFc_std_step]"
      ]
     },
     "execution_count": 19,
     "metadata": {},
     "output_type": "execute_result"
    }
   ],
   "source": [
    "matcher = columnsDescriptions =~ /[^:\\n]+(?=:)/\n",
    "colNames = matcher.findAll() as List"
   ]
  },
  {
   "cell_type": "code",
   "execution_count": 24,
   "metadata": {},
   "outputs": [
    {
     "data": {
      "text/plain": [
       "\"title\", \"pbd_code\", \"res_name\", \"res_id\", \"chain_id\", \"local_BAa, local_NPa, local_Ra, local_RGa, local_SRGa, local_CCSa, local_CCPa, local_ZOa, local_ZDa, local_ZD_minus_a, local_ZD_plus_a\", \"local_res_atom_count local_res_atom_non_h_count local_res_atom_non_h_occupancy_sum local_res_atom_non_h_electron_sum local_res_atom_non_h_electron_occupancy_sum local_res_atom_C_count local_res_atom_N_count local_res_atom_O_count local_res_atom_S_count\", \"dict_atom_non_h_count dict_atom_non_h_electron_sum dict_atom_C_count dict_atom_N_count dict_atom_O_count dict_atom_S_count\", \"part_XX\", \" kolumny zaczynające się od “part_” opisują wartości obliczone tylko na podstawie ligandu; liczba pojawiająca się po “part_” koduje próg odcięcia intensywności; atrybuty obliczone dla każdego poziomu odcięcia zostały opisane poniżej\", \"blob_electron_sum\", \"blob_volume_sum\", \"blob_parts\", \"shape\", \"density\", \"O3, O4, O5, FL\", \"I1, I2, I3, I4, I5, I6\", \"M000\", \"E1, E2, E3\", \"norm\", \"scaled\", \"local_volume\", \"local_electrons\", \"local_mean\", \"local_std\", \"local_min\", \"local_max\", \"local_skewness\", \"local_parts\", \"TwoFoFc_mean, TwoFoFc_std TwoFoFc_square_std TwoFoFc_min TwoFoFc_max\", \"Fo_mean Fo_std Fo_square_std Fo_min Fo_max\", \"FoFc_mean FoFc_std FoFc_square_std FoFc_min FoFc_max\", \"Fc_mean Fc_std Fc_square_std Fc_min Fc_max\", \"fo_col, fc_col, weight_col, grid_space, solvent_radius, solvent_opening_radius\", \"resolution\", \"solvent_mask_count\", \"void_mask_count\", \"modeled_mask_count\", \"solvent_ratio\", \"TwoFoFc_bulk_mean, TwoFoFc_bulk_std, TwoFoFc_void_mean, TwoFoFc_void_std, TwoFoFc_modeled_mean, TwoFoFc_modeled_std\", \"Fo_bulk_mean, Fo_bulk_std, Fo_void_mean, Fo_void_std, Fo_modeled_mean, Fo_modeled_std\", \"Fc_bulk_mean, Fc_bulk_std, Fc_void_mean, Fc_void_std, Fc_modeled_mean, Fc_modeled_std\", \"FoFc_bulk_mean, FoFc_bulk_std, FoFc_void_mean, FoFc_void_std, FoFc_modeled_mean, FoFc_modeled_std\", \"TwoFoFc_void_fit_binormal_mean1, TwoFoFc_void_fit_binormal_std1, TwoFoFc_void_fit_binormal_mean2, TwoFoFc_void_fit_binormal_std2, TwoFoFc_void_fit_binormal_scale, TwoFoFc_solvent_fit_normal_mean, TwoFoFc_solvent_fit_normal_std\", \"part_step_FoFc_std_min\", \"part_step_FoFc_std_max\", \"part_step_FoFc_std_step\""
      ]
     },
     "execution_count": 24,
     "metadata": {},
     "output_type": "execute_result"
    }
   ],
   "source": [
    "formattedColNames = colNames\n",
    ".collect { \"\\\"$it\\\"\" }\n",
    ".join \", \""
   ]
  },
  {
   "cell_type": "markdown",
   "metadata": {},
   "source": [
    "### Check content of first lines of the data file"
   ]
  },
  {
   "cell_type": "code",
   "execution_count": 26,
   "metadata": {},
   "outputs": [
    {
     "data": {
      "text/plain": [
       "all_summary.csv"
      ]
     },
     "execution_count": 26,
     "metadata": {},
     "output_type": "execute_result"
    }
   ],
   "source": [
    "f = new File(\"all_summary.csv\")"
   ]
  },
  {
   "cell_type": "code",
   "execution_count": 50,
   "metadata": {},
   "outputs": [
    {
     "data": {
      "text/plain": [
       "6110"
      ]
     },
     "execution_count": 50,
     "metadata": {},
     "output_type": "execute_result"
    }
   ],
   "source": [
    "f.withReader {\n",
    "    line = it.readLine()\n",
    "    line2 = it.readLine()\n",
    "}\n",
    "names = line.split(\";\")\n",
    "namesSize = names.size()\n",
    "values = line2.split(\";\")\n",
    "valuesSize = line2.size()"
   ]
  },
  {
   "cell_type": "markdown",
   "metadata": {},
   "source": [
    "### Replace pretty quotes with oridenry quotes"
   ]
  },
  {
   "cell_type": "code",
   "execution_count": 53,
   "metadata": {},
   "outputs": [
    {
     "data": {
      "text/plain": [
       "“UNK”, “UNX”, “UNL”, “DUM”, “N”, “BLOB”, “ALA”, “ARG”, “ASN”, “ASP”, “CYS”, “GLN”, “GLU”, “GLY”, “HIS”, “ILE”, “LEU”, “LYS”, “MET”, “MSE”, “PHE”, “PRO”, “SEC”, “SER”, “THR”, “TRP”, “TYR”, “VAL”, “DA”, “DG”, “DT”, “DC”, “DU”, “A”, “G”, “T”, “C”, “U”, “HOH”, “H20”, “WAT”"
      ]
     },
     "execution_count": 53,
     "metadata": {},
     "output_type": "execute_result"
    }
   ],
   "source": [
    "colsToDeleteString = \"“UNK”, “UNX”, “UNL”, “DUM”, “N”, “BLOB”, “ALA”, “ARG”, “ASN”, “ASP”, “CYS”, “GLN”, “GLU”, “GLY”, “HIS”, “ILE”, “LEU”, “LYS”, “MET”, “MSE”, “PHE”, “PRO”, “SEC”, “SER”, “THR”, “TRP”, “TYR”, “VAL”, “DA”, “DG”, “DT”, “DC”, “DU”, “A”, “G”, “T”, “C”, “U”, “HOH”, “H20”, “WAT”\""
   ]
  },
  {
   "cell_type": "code",
   "execution_count": 70,
   "metadata": {},
   "outputs": [
    {
     "data": {
      "text/plain": [
       "\"UNK\", \"UNX\", \"UNL\", \"DUM\", \"N\", \"BLOB\", \"ALA\", \"ARG\", \"ASN\", \"ASP\", \"CYS\", \"GLN\", \"GLU\", \"GLY\", \"HIS\", \"ILE\", \"LEU\", \"LYS\", \"MET\", \"MSE\", \"PHE\", \"PRO\", \"SEC\", \"SER\", \"THR\", \"TRP\", \"TYR\", \"VAL\", \"DA\", \"DG\", \"DT\", \"DC\", \"DU\", \"A\", \"G\", \"T\", \"C\", \"U\", \"HOH\", \"H20\", \"WAT\""
      ]
     },
     "execution_count": 70,
     "metadata": {},
     "output_type": "execute_result"
    }
   ],
   "source": [
    "colsToDeleteMatcher = colsToDeleteString =~ /(?<=“)[^“]+(?=”)/\n",
    "colsToDeleteMatcher.findAll()\n",
    ".collect { \"\\\"$it\\\"\" }\n",
    ".join(\", \")"
   ]
  },
  {
   "cell_type": "code",
   "execution_count": null,
   "metadata": {},
   "outputs": [],
   "source": []
  }
 ],
 "metadata": {
  "kernelspec": {
   "display_name": "Groovy",
   "language": "groovy",
   "name": "groovy"
  },
  "language_info": {
   "codemirror_mode": "groovy",
   "file_extension": ".groovy",
   "mimetype": "",
   "name": "Groovy",
   "nbconverter_exporter": "",
   "version": "2.4.3"
  }
 },
 "nbformat": 4,
 "nbformat_minor": 2
}
