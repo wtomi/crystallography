{
 "cells": [
  {
   "cell_type": "markdown",
   "metadata": {},
   "source": [
    "### This file contains helpful code snippets used for preprocessing of metadata\n",
    "\n",
    "### language: Groovy"
   ]
  },
  {
   "cell_type": "markdown",
   "metadata": {},
   "source": [
    "### Get columns name from columns descriptions"
   ]
  },
  {
   "cell_type": "code",
   "execution_count": 7,
   "metadata": {},
   "outputs": [
    {
     "data": {
      "text/plain": [
       "null"
      ]
     },
     "execution_count": 7,
     "metadata": {},
     "output_type": "execute_result"
    }
   ],
   "source": [
    "columnsDescriptions = \"\"\"\n",
    "title: nazwa łącząca pdb_code (nazwę wpisu do bazy PDB), res_name (nazwę ligandu), res_id, i chain_id;\n",
    "pbd_code: identyfikator pliku PDB;\n",
    "res_name: nazwa ligandu, czyli opisanej w wierszu cząsteczki chemicznej (etykieta klasy);\n",
    "res_id: identyfikator reszty w pliku PDB (umiejscowienie cząsteczki w białku);\n",
    "chain_id: identyfikator łańcucha w pliku PDB (umiejscowienie cząsteczki w białku);\n",
    "\n",
    "local_BAa, local_NPa, local_Ra, local_RGa, local_SRGa, local_CCSa, local_CCPa, local_ZOa, local_ZDa, local_ZD_minus_a, local_ZD_plus_a: te zmienne to miary jakości struktury zapisanej w PDB;\n",
    "\n",
    "local_res_atom_count local_res_atom_non_h_count local_res_atom_non_h_occupancy_sum local_res_atom_non_h_electron_sum local_res_atom_non_h_electron_occupancy_sum local_res_atom_C_count local_res_atom_N_count local_res_atom_O_count local_res_atom_S_count: liczba atomów i elektronów ligandu zamodelowana w pliku PDB;\n",
    "\n",
    "dict_atom_non_h_count dict_atom_non_h_electron_sum dict_atom_C_count dict_atom_N_count dict_atom_O_count dict_atom_S_count: liczba atomów i elektronów wyliczona na podstawie danych słownikowych (“tablicy pierwiastków”);\n",
    "\n",
    "part_XX: kolumny zaczynające się od “part_” opisują wartości obliczone tylko na podstawie ligandu; liczba pojawiająca się po “part_” koduje próg odcięcia intensywności; atrybuty obliczone dla każdego poziomu odcięcia zostały opisane poniżej:\n",
    "\n",
    "blob_electron_sum: szacowana liczba elektronów;\n",
    "blob_volume_sum: szacowana objętość cząsteczki;\n",
    "blob_parts: liczba rozdzielnych części;\n",
    "\n",
    "shape: maska kształtu;\n",
    "density: ,maska gęstości elektronowej;\n",
    "\n",
    "O3, O4, O5, FL: niezmienniki kształtu opisane w artykule “Moment invariants as shape recognition technique for comparing protein binding sites”, Sommer et al.\n",
    "I1, I2, I3, I4, I5, I6: niezmienniki kształtu opisane w artykule “3-D Surface Moment Invariants”, Xu i Li\n",
    "M000: moment zerowy (licznik potrzebny do obliczeń - brak interpretacji fizycznej);\n",
    "\n",
    "E1, E2, E3: wartości własne macierzy kowariancji obliczonej dla kształtu i gęstości; E1 to największa wartość własna, E3 najmniejsza; E3_E1 to E3 podzielone przez E1, id., sqrt oznacza pierwiastek danej wartości własnej;\n",
    "\n",
    "norm: niezmienniki kształtu znormalizowane aby były niezmienne ze względu rotację, translację i skalę;\n",
    "scaled: wartości niezmienne ze względu rotację, translację, ale nie skalę;\n",
    "\n",
    "local_volume: objętość dla progu odcięcia 6 x FoFc_std;\n",
    "local_electrons: liczba elektronów dla progu odcięcia 6 x FoFc_std;\n",
    "local_mean: średnia gęstość elektronowa dla progu odcięcia 6 x FoFc_std;\n",
    "local_std: odchylenie standardowe średniej gęstości elektronowej dla progu odcięcia 6 x FoFc_std;\n",
    "local_min: minimalna gęstość elektronowa dla progu odcięcia 6 x FoFc_std;\n",
    "local_max: maksymalna gęstość elektronowa dla progu odcięcia 6 x FoFc_std;\n",
    "local_skewness: skośność dla progu odcięcia 6 x FoFc_std;\n",
    "local_parts: liczba rozdzielnych części dla progu odcięcia 6 x FoFc_std;\n",
    "\n",
    "TwoFoFc_mean, TwoFoFc_std TwoFoFc_square_std TwoFoFc_min TwoFoFc_max: to samo co dla local tylko bez progowania (TwoFoFc = 2Fo-Fc);\n",
    "Fo_mean Fo_std Fo_square_std Fo_min Fo_max: to samo co dla local tylko bez progowania dla mapy Fo (Fo = observed);\n",
    "FoFc_mean FoFc_std FoFc_square_std FoFc_min FoFc_max: to samo co dla local tylko bez progowania dla mapy FoFc (FoFc = Fo-Fc = error/residual map);\n",
    "Fc_mean Fc_std Fc_square_std Fc_min Fc_max: to samo co dla local tylko bez progowania dla mapy Fc (Fc = calculated);\n",
    "\n",
    "fo_col, fc_col, weight_col, grid_space, solvent_radius, solvent_opening_radius: parametry wykorzystane podczas tworzenia zbioru;\n",
    "resolution: maksymalna rozdzielczość analizowanych danych;\n",
    "\n",
    "solvent_mask_count: rozmiar maski rozpuszczalnika;\n",
    "void_mask_count: rozmiar maski pustego obszaru;\n",
    "modeled_mask_count: rozmiar maski ligandu;\n",
    "solvent_ratio: solvent/(solvent+void+modeled);\n",
    "\n",
    "TwoFoFc_bulk_mean, TwoFoFc_bulk_std, TwoFoFc_void_mean, TwoFoFc_void_std, TwoFoFc_modeled_mean, TwoFoFc_modeled_std: globalne statystyki dla mapy TWoFoFc;\n",
    "Fo_bulk_mean, Fo_bulk_std, Fo_void_mean, Fo_void_std, Fo_modeled_mean, Fo_modeled_std: globalne statystyki dla mapy Fo;\n",
    "Fc_bulk_mean, Fc_bulk_std, Fc_void_mean, Fc_void_std, Fc_modeled_mean, Fc_modeled_std: globalne statystyki dla mapy Fc;\n",
    "FoFc_bulk_mean, FoFc_bulk_std, FoFc_void_mean, FoFc_void_std, FoFc_modeled_mean, FoFc_modeled_std: globalne statystyki dla mapy FoFc;\n",
    "TwoFoFc_void_fit_binormal_mean1, TwoFoFc_void_fit_binormal_std1, TwoFoFc_void_fit_binormal_mean2, TwoFoFc_void_fit_binormal_std2, TwoFoFc_void_fit_binormal_scale, TwoFoFc_solvent_fit_normal_mean, TwoFoFc_solvent_fit_normal_std: dopasowanie do wybranych rozkładów danych;\n",
    "\n",
    "part_step_FoFc_std_min: minimalny próg maskowania (dla part_00);\n",
    "part_step_FoFc_std_max: maksymalny próg maskowania (dla part_10);\n",
    "part_step_FoFc_std_step: krok maskowania (dł/szer./wys. piksela maski).\n",
    "\"\"\"\n",
    "\n",
    "null"
   ]
  },
  {
   "cell_type": "code",
   "execution_count": 8,
   "metadata": {},
   "outputs": [
    {
     "data": {
      "text/plain": [
       "[title, pbd_code, res_name, res_id, chain_id, local_BAa, local_NPa, local_Ra, local_RGa, local_SRGa, local_CCSa, local_CCPa, local_ZOa, local_ZDa, local_ZD_minus_a, local_ZD_plus_a, local_res_atom_count, local_res_atom_non_h_count, local_res_atom_non_h_occupancy_sum, local_res_atom_non_h_electron_sum, local_res_atom_non_h_electron_occupancy_sum, local_res_atom_C_count, local_res_atom_N_count, local_res_atom_O_count, local_res_atom_S_count, dict_atom_non_h_count, dict_atom_non_h_electron_sum, dict_atom_C_count, dict_atom_N_count, dict_atom_O_count, dict_atom_S_count, part_XX, blob_electron_sum, blob_volume_sum, blob_parts, shape, density, O3, O4, O5, FL, I1, I2, I3, I4, I5, I6, M000, E1, E2, E3, norm, scaled, local_volume, local_electrons, local_mean, local_std, local_min, local_max, local_skewness, local_parts, TwoFoFc_mean, TwoFoFc_std, TwoFoFc_square_std, TwoFoFc_min, TwoFoFc_max, Fo_mean, Fo_std, Fo_square_std, Fo_min, Fo_max, FoFc_mean, FoFc_std, FoFc_square_std, FoFc_min, FoFc_max, Fc_mean, Fc_std, Fc_square_std, Fc_min, Fc_max, fo_col, fc_col, weight_col, grid_space, solvent_radius, solvent_opening_radius, resolution, solvent_mask_count, void_mask_count, modeled_mask_count, solvent_ratio, TwoFoFc_bulk_mean, TwoFoFc_bulk_std, TwoFoFc_void_mean, TwoFoFc_void_std, TwoFoFc_modeled_mean, TwoFoFc_modeled_std, Fo_bulk_mean, Fo_bulk_std, Fo_void_mean, Fo_void_std, Fo_modeled_mean, Fo_modeled_std, Fc_bulk_mean, Fc_bulk_std, Fc_void_mean, Fc_void_std, Fc_modeled_mean, Fc_modeled_std, FoFc_bulk_mean, FoFc_bulk_std, FoFc_void_mean, FoFc_void_std, FoFc_modeled_mean, FoFc_modeled_std, TwoFoFc_void_fit_binormal_mean1, TwoFoFc_void_fit_binormal_std1, TwoFoFc_void_fit_binormal_mean2, TwoFoFc_void_fit_binormal_std2, TwoFoFc_void_fit_binormal_scale, TwoFoFc_solvent_fit_normal_mean, TwoFoFc_solvent_fit_normal_std, part_step_FoFc_std_min, part_step_FoFc_std_max, part_step_FoFc_std_step]"
      ]
     },
     "execution_count": 8,
     "metadata": {},
     "output_type": "execute_result"
    }
   ],
   "source": [
    "matcher = columnsDescriptions =~ /(?<=\\n)[^:\\n]+(?=:)/\n",
    "colNames = matcher.findAll().collect { it.split(/[ ,]+/) }.flatten()"
   ]
  },
  {
   "cell_type": "code",
   "execution_count": 2,
   "metadata": {},
   "outputs": [
    {
     "data": {
      "text/plain": [
       "null"
      ]
     },
     "execution_count": 2,
     "metadata": {},
     "output_type": "execute_result"
    }
   ],
   "source": [
    "redColsDescription=\"\"\"\n",
    "title: nazwa łącząca pdb_code (nazwę wpisu do bazy PDB), res_name (nazwę ligandu), res_id, i chain_id;\n",
    "pbd_code: identyfikator pliku PDB;\n",
    "res_name: nazwa ligandu, czyli opisanej w wierszu cząsteczki chemicznej (etykieta klasy);\n",
    "res_id: identyfikator reszty w pliku PDB (umiejscowienie cząsteczki w białku);\n",
    "chain_id: identyfikator łańcucha w pliku PDB (umiejscowienie cząsteczki w białku);\n",
    "\n",
    "local_BAa, local_NPa, local_Ra, local_RGa, local_SRGa, local_CCSa, local_CCPa, local_ZOa, local_ZDa, local_ZD_minus_a, local_ZD_plus_a: te zmienne to miary jakości struktury zapisanej w PDB;\n",
    "\n",
    "local_res_atom_count local_res_atom_non_h_count local_res_atom_non_h_occupancy_sum local_res_atom_non_h_electron_sum local_res_atom_non_h_electron_occupancy_sum local_res_atom_C_count local_res_atom_N_count local_res_atom_O_count local_res_atom_S_count: liczba atomów i elektronów ligandu zamodelowana w pliku PDB;\n",
    "\n",
    "dict_atom_non_h_count dict_atom_non_h_electron_sum dict_atom_C_count dict_atom_N_count dict_atom_O_count dict_atom_S_count: liczba atomów i elektronów wyliczona na podstawie danych słownikowych (“tablicy pierwiastków”);\n",
    "\n",
    "fo_col, fc_col, weight_col, grid_space, solvent_radius, solvent_opening_radius: parametry wykorzystane podczas tworzenia zbioru;\n",
    "\n",
    "part_step_FoFc_std_min: minimalny próg maskowania (dla part_00);\n",
    "part_step_FoFc_std_max: maksymalny próg maskowania (dla part_10);\n",
    "part_step_FoFc_std_step: krok maskowania (dł/szer./wys. piksela maski).\n",
    "\"\"\"\n",
    "null"
   ]
  },
  {
   "cell_type": "code",
   "execution_count": 9,
   "metadata": {},
   "outputs": [
    {
     "data": {
      "text/plain": [
       "[title, pbd_code, res_name, res_id, chain_id, local_BAa, local_NPa, local_Ra, local_RGa, local_SRGa, local_CCSa, local_CCPa, local_ZOa, local_ZDa, local_ZD_minus_a, local_ZD_plus_a, local_res_atom_count, local_res_atom_non_h_count, local_res_atom_non_h_occupancy_sum, local_res_atom_non_h_electron_sum, local_res_atom_non_h_electron_occupancy_sum, local_res_atom_C_count, local_res_atom_N_count, local_res_atom_O_count, local_res_atom_S_count, dict_atom_non_h_count, dict_atom_non_h_electron_sum, dict_atom_C_count, dict_atom_N_count, dict_atom_O_count, dict_atom_S_count, fo_col, fc_col, weight_col, grid_space, solvent_radius, solvent_opening_radius, part_step_FoFc_std_min, part_step_FoFc_std_max, part_step_FoFc_std_step]"
      ]
     },
     "execution_count": 9,
     "metadata": {},
     "output_type": "execute_result"
    }
   ],
   "source": [
    "matcher = redColsDescription =~ /(?<=\\n)[^:\\n]+(?=:)/\n",
    "redColNames = matcher.findAll().collect { it.split(/[ ,]+/) }.flatten()"
   ]
  },
  {
   "cell_type": "code",
   "execution_count": 12,
   "metadata": {},
   "outputs": [
    {
     "data": {
      "text/plain": [
       "script1544459701166$_run_closure1@7a7e0200"
      ]
     },
     "execution_count": 12,
     "metadata": {},
     "output_type": "execute_result"
    }
   ],
   "source": [
    "formatColNames = { names ->\n",
    "    names.collect { \"\\\"$it\\\"\" }.join \", \"\n",
    "}"
   ]
  },
  {
   "cell_type": "code",
   "execution_count": 13,
   "metadata": {},
   "outputs": [
    {
     "data": {
      "text/plain": [
       "\"title\", \"pbd_code\", \"res_name\", \"res_id\", \"chain_id\", \"local_BAa\", \"local_NPa\", \"local_Ra\", \"local_RGa\", \"local_SRGa\", \"local_CCSa\", \"local_CCPa\", \"local_ZOa\", \"local_ZDa\", \"local_ZD_minus_a\", \"local_ZD_plus_a\", \"local_res_atom_count\", \"local_res_atom_non_h_count\", \"local_res_atom_non_h_occupancy_sum\", \"local_res_atom_non_h_electron_sum\", \"local_res_atom_non_h_electron_occupancy_sum\", \"local_res_atom_C_count\", \"local_res_atom_N_count\", \"local_res_atom_O_count\", \"local_res_atom_S_count\", \"dict_atom_non_h_count\", \"dict_atom_non_h_electron_sum\", \"dict_atom_C_count\", \"dict_atom_N_count\", \"dict_atom_O_count\", \"dict_atom_S_count\", \"part_XX\", \"blob_electron_sum\", \"blob_volume_sum\", \"blob_parts\", \"shape\", \"density\", \"O3\", \"O4\", \"O5\", \"FL\", \"I1\", \"I2\", \"I3\", \"I4\", \"I5\", \"I6\", \"M000\", \"E1\", \"E2\", \"E3\", \"norm\", \"scaled\", \"local_volume\", \"local_electrons\", \"local_mean\", \"local_std\", \"local_min\", \"local_max\", \"local_skewness\", \"local_parts\", \"TwoFoFc_mean\", \"TwoFoFc_std\", \"TwoFoFc_square_std\", \"TwoFoFc_min\", \"TwoFoFc_max\", \"Fo_mean\", \"Fo_std\", \"Fo_square_std\", \"Fo_min\", \"Fo_max\", \"FoFc_mean\", \"FoFc_std\", \"FoFc_square_std\", \"FoFc_min\", \"FoFc_max\", \"Fc_mean\", \"Fc_std\", \"Fc_square_std\", \"Fc_min\", \"Fc_max\", \"fo_col\", \"fc_col\", \"weight_col\", \"grid_space\", \"solvent_radius\", \"solvent_opening_radius\", \"resolution\", \"solvent_mask_count\", \"void_mask_count\", \"modeled_mask_count\", \"solvent_ratio\", \"TwoFoFc_bulk_mean\", \"TwoFoFc_bulk_std\", \"TwoFoFc_void_mean\", \"TwoFoFc_void_std\", \"TwoFoFc_modeled_mean\", \"TwoFoFc_modeled_std\", \"Fo_bulk_mean\", \"Fo_bulk_std\", \"Fo_void_mean\", \"Fo_void_std\", \"Fo_modeled_mean\", \"Fo_modeled_std\", \"Fc_bulk_mean\", \"Fc_bulk_std\", \"Fc_void_mean\", \"Fc_void_std\", \"Fc_modeled_mean\", \"Fc_modeled_std\", \"FoFc_bulk_mean\", \"FoFc_bulk_std\", \"FoFc_void_mean\", \"FoFc_void_std\", \"FoFc_modeled_mean\", \"FoFc_modeled_std\", \"TwoFoFc_void_fit_binormal_mean1\", \"TwoFoFc_void_fit_binormal_std1\", \"TwoFoFc_void_fit_binormal_mean2\", \"TwoFoFc_void_fit_binormal_std2\", \"TwoFoFc_void_fit_binormal_scale\", \"TwoFoFc_solvent_fit_normal_mean\", \"TwoFoFc_solvent_fit_normal_std\", \"part_step_FoFc_std_min\", \"part_step_FoFc_std_max\", \"part_step_FoFc_std_step\""
      ]
     },
     "execution_count": 13,
     "metadata": {},
     "output_type": "execute_result"
    }
   ],
   "source": [
    "formatColNames(colNames)"
   ]
  },
  {
   "cell_type": "code",
   "execution_count": 14,
   "metadata": {},
   "outputs": [
    {
     "data": {
      "text/plain": [
       "\"title\", \"pbd_code\", \"res_name\", \"res_id\", \"chain_id\", \"local_BAa\", \"local_NPa\", \"local_Ra\", \"local_RGa\", \"local_SRGa\", \"local_CCSa\", \"local_CCPa\", \"local_ZOa\", \"local_ZDa\", \"local_ZD_minus_a\", \"local_ZD_plus_a\", \"local_res_atom_count\", \"local_res_atom_non_h_count\", \"local_res_atom_non_h_occupancy_sum\", \"local_res_atom_non_h_electron_sum\", \"local_res_atom_non_h_electron_occupancy_sum\", \"local_res_atom_C_count\", \"local_res_atom_N_count\", \"local_res_atom_O_count\", \"local_res_atom_S_count\", \"dict_atom_non_h_count\", \"dict_atom_non_h_electron_sum\", \"dict_atom_C_count\", \"dict_atom_N_count\", \"dict_atom_O_count\", \"dict_atom_S_count\", \"fo_col\", \"fc_col\", \"weight_col\", \"grid_space\", \"solvent_radius\", \"solvent_opening_radius\", \"part_step_FoFc_std_min\", \"part_step_FoFc_std_max\", \"part_step_FoFc_std_step\""
      ]
     },
     "execution_count": 14,
     "metadata": {},
     "output_type": "execute_result"
    }
   ],
   "source": [
    "formatColNames(redColNames)"
   ]
  },
  {
   "cell_type": "markdown",
   "metadata": {},
   "source": [
    "### Replace pretty quotes with oridenry quotes"
   ]
  },
  {
   "cell_type": "code",
   "execution_count": 29,
   "metadata": {},
   "outputs": [
    {
     "data": {
      "text/plain": [
       "“UNK”, “UNX”, “UNL”, “DUM”, “N”, “BLOB”, “ALA”, “ARG”, “ASN”, “ASP”, “CYS”, “GLN”, “GLU”, “GLY”, “HIS”, “ILE”, “LEU”, “LYS”, “MET”, “MSE”, “PHE”, “PRO”, “SEC”, “SER”, “THR”, “TRP”, “TYR”, “VAL”, “DA”, “DG”, “DT”, “DC”, “DU”, “A”, “G”, “T”, “C”, “U”, “HOH”, “H20”, “WAT”"
      ]
     },
     "execution_count": 29,
     "metadata": {},
     "output_type": "execute_result"
    }
   ],
   "source": [
    "colsToDeleteString = \"“UNK”, “UNX”, “UNL”, “DUM”, “N”, “BLOB”, “ALA”, “ARG”, “ASN”, “ASP”, “CYS”, “GLN”, “GLU”, “GLY”, “HIS”, “ILE”, “LEU”, “LYS”, “MET”, “MSE”, “PHE”, “PRO”, “SEC”, “SER”, “THR”, “TRP”, “TYR”, “VAL”, “DA”, “DG”, “DT”, “DC”, “DU”, “A”, “G”, “T”, “C”, “U”, “HOH”, “H20”, “WAT”\""
   ]
  },
  {
   "cell_type": "code",
   "execution_count": 30,
   "metadata": {},
   "outputs": [
    {
     "data": {
      "text/plain": [
       "\"UNK\", \"UNX\", \"UNL\", \"DUM\", \"N\", \"BLOB\", \"ALA\", \"ARG\", \"ASN\", \"ASP\", \"CYS\", \"GLN\", \"GLU\", \"GLY\", \"HIS\", \"ILE\", \"LEU\", \"LYS\", \"MET\", \"MSE\", \"PHE\", \"PRO\", \"SEC\", \"SER\", \"THR\", \"TRP\", \"TYR\", \"VAL\", \"DA\", \"DG\", \"DT\", \"DC\", \"DU\", \"A\", \"G\", \"T\", \"C\", \"U\", \"HOH\", \"H20\", \"WAT\""
      ]
     },
     "execution_count": 30,
     "metadata": {},
     "output_type": "execute_result"
    }
   ],
   "source": [
    "colsToDeleteMatcher = colsToDeleteString =~ /(?<=“)[^“]+(?=”)/\n",
    "colsToDelete = colsToDeleteMatcher.findAll()\n",
    "colsToDelete.collect { \"\\\"$it\\\"\" }\n",
    ".join(\", \")"
   ]
  },
  {
   "cell_type": "markdown",
   "metadata": {},
   "source": [
    "### Get number of records with allowed res_name"
   ]
  },
  {
   "cell_type": "code",
   "execution_count": 31,
   "metadata": {},
   "outputs": [
    {
     "data": {
      "text/plain": [
       "all_summary.csv"
      ]
     },
     "execution_count": 31,
     "metadata": {},
     "output_type": "execute_result"
    }
   ],
   "source": [
    "f = new File(\"all_summary.csv\")"
   ]
  },
  {
   "cell_type": "code",
   "execution_count": 11,
   "metadata": {},
   "outputs": [
    {
     "data": {
      "text/plain": [
       "null"
      ]
     },
     "execution_count": 11,
     "metadata": {},
     "output_type": "execute_result"
    }
   ],
   "source": [
    "disallowedCount = 0\n",
    "allCount = 0\n",
    "def line\n",
    "f.withReader {\n",
    "    while(line = it.readLine()) {\n",
    "        resName = line.split(\";\")[4]\n",
    "        if (colsToDelete.contains(resName)) {\n",
    "            disallowedCount++\n",
    "        }\n",
    "        allCount++\n",
    "    }\n",
    "}"
   ]
  },
  {
   "cell_type": "code",
   "execution_count": 15,
   "metadata": {},
   "outputs": [
    {
     "data": {
      "text/plain": [
       "0.0096490441"
      ]
     },
     "execution_count": 15,
     "metadata": {},
     "output_type": "execute_result"
    }
   ],
   "source": [
    "disallowedCount / allCount"
   ]
  },
  {
   "cell_type": "markdown",
   "metadata": {},
   "source": [
    "### Find columns that are not specified in project description: http://www.cs.put.poznan.pl/dbrzezinski/teaching/zed/zed_projekt_2018-2019_analiza.html"
   ]
  },
  {
   "cell_type": "code",
   "execution_count": 32,
   "metadata": {},
   "outputs": [
    {
     "data": {
      "text/plain": [
       "null"
      ]
     },
     "execution_count": 32,
     "metadata": {},
     "output_type": "execute_result"
    }
   ],
   "source": [
    "dfColumnNamesString = \"\"\"\n",
    "[1] \"blob_coverage\"                               \"res_coverage\"                               \n",
    "  [3] \"title\"                                       \"pdb_code\"                                   \n",
    "  [5] \"res_name\"                                    \"res_id\"                                     \n",
    "  [7] \"chain_id\"                                    \"blob_volume_coverage\"                       \n",
    "  [9] \"blob_volume_coverage_second\"                 \"res_volume_coverage\"                        \n",
    " [11] \"res_volume_coverage_second\"                  \"local_res_atom_count\"                       \n",
    " [13] \"local_res_atom_non_h_count\"                  \"local_res_atom_non_h_occupancy_sum\"         \n",
    " [15] \"local_res_atom_non_h_electron_sum\"           \"local_res_atom_non_h_electron_occupancy_sum\"\n",
    " [17] \"local_res_atom_C_count\"                      \"local_res_atom_N_count\"                     \n",
    " [19] \"local_res_atom_O_count\"                      \"local_res_atom_S_count\"                     \n",
    " [21] \"dict_atom_non_h_count\"                       \"dict_atom_non_h_electron_sum\"               \n",
    " [23] \"dict_atom_C_count\"                           \"dict_atom_N_count\"                          \n",
    " [25] \"dict_atom_O_count\"                           \"dict_atom_S_count\"                          \n",
    " [27] \"skeleton_data\"                               \"skeleton_cycle_4\"                           \n",
    " [29] \"skeleton_diameter\"                           \"skeleton_cycle_6\"                           \n",
    " [31] \"skeleton_cycle_7\"                            \"skeleton_closeness_006_008\"                 \n",
    " [33] \"skeleton_closeness_002_004\"                  \"skeleton_cycle_3\"                           \n",
    " [35] \"skeleton_avg_degree\"                         \"skeleton_closeness_004_006\"                 \n",
    " [37] \"skeleton_closeness_010_012\"                  \"skeleton_closeness_012_014\"                 \n",
    " [39] \"skeleton_edges\"                              \"skeleton_radius\"                            \n",
    " [41] \"skeleton_cycle_8_plus\"                       \"skeleton_closeness_020_030\"                 \n",
    " [43] \"skeleton_deg_5_plus\"                         \"skeleton_closeness_016_018\"                 \n",
    " [45] \"skeleton_closeness_008_010\"                  \"skeleton_closeness_018_020\"                 \n",
    " [47] \"skeleton_average_clustering\"                 \"skeleton_closeness_040_050\"                 \n",
    " [49] \"skeleton_closeness_014_016\"                  \"skeleton_center\"                            \n",
    " [51] \"skeleton_closeness_000_002\"                  \"skeleton_density\"                           \n",
    " [53] \"skeleton_closeness_030_040\"                  \"skeleton_deg_4\"                             \n",
    " [55] \"skeleton_deg_0\"                              \"skeleton_deg_1\"                             \n",
    " [57] \"skeleton_deg_2\"                              \"skeleton_deg_3\"                             \n",
    " [59] \"skeleton_graph_clique_number\"                \"skeleton_nodes\"                             \n",
    " [61] \"skeleton_cycles\"                             \"skeleton_cycle_5\"                           \n",
    " [63] \"skeleton_closeness_050_plus\"                 \"skeleton_periphery\"                         \n",
    " [65] \"local_volume\"                                \"local_electrons\"                            \n",
    " [67] \"local_mean\"                                  \"local_std\"                                  \n",
    " [69] \"local_min\"                                   \"local_max\"                                  \n",
    " [71] \"local_max_over_std\"                          \"local_skewness\"                             \n",
    " [73] \"local_cut_by_mainchain_volume\"               \"local_near_cut_count_C\"                     \n",
    " [75] \"local_near_cut_count_other\"                  \"local_near_cut_count_S\"                     \n",
    " [77] \"local_near_cut_count_O\"                      \"local_near_cut_count_N\"                     \n",
    " [79] \"part_00_shape_segments_count\"                \"part_00_density_segments_count\"             \n",
    " [81] \"part_00_volume\"                              \"part_00_electrons\"                          \n",
    " [83] \"part_00_mean\"                                \"part_00_std\"                                \n",
    " [85] \"part_00_max\"                                 \"part_00_max_over_std\"                       \n",
    " [87] \"part_00_skewness\"                            \"part_00_parts\"                              \n",
    " [89] \"part_00_shape_O3\"                            \"part_00_shape_O4\"                           \n",
    " [91] \"part_00_shape_O5\"                            \"part_00_shape_FL\"                           \n",
    " [93] \"part_00_shape_O3_norm\"                       \"part_00_shape_O4_norm\"                      \n",
    " [95] \"part_00_shape_O5_norm\"                       \"part_00_shape_FL_norm\"                      \n",
    " [97] \"part_00_shape_I1\"                            \"part_00_shape_I2\"                           \n",
    " [99] \"part_00_shape_I3\"                            \"part_00_shape_I4\"                           \n",
    "[101] \"part_00_shape_I5\"                            \"part_00_shape_I6\"                           \n",
    "[103] \"part_00_shape_I1_norm\"                       \"part_00_shape_I2_norm\"                      \n",
    "[105] \"part_00_shape_I3_norm\"                       \"part_00_shape_I4_norm\"                      \n",
    "[107] \"part_00_shape_I5_norm\"                       \"part_00_shape_I6_norm\"                      \n",
    "[109] \"part_00_shape_M000\"                          \"part_00_shape_CI\"                           \n",
    "[111] \"part_00_shape_E3_E1\"                         \"part_00_shape_E2_E1\"                        \n",
    "[113] \"part_00_shape_E3_E2\"                         \"part_00_shape_sqrt_E1\"                      \n",
    "[115] \"part_00_shape_sqrt_E2\"                       \"part_00_shape_sqrt_E3\"                      \n",
    "[117] \"part_00_density_O3\"                          \"part_00_density_O4\"                         \n",
    "[119] \"part_00_density_O5\"                          \"part_00_density_FL\"                         \n",
    "[121] \"part_00_density_O3_norm\"                     \"part_00_density_O4_norm\"                    \n",
    "[123] \"part_00_density_O5_norm\"                     \"part_00_density_FL_norm\"                    \n",
    "[125] \"part_00_density_I1\"                          \"part_00_density_I2\"                         \n",
    "[127] \"part_00_density_I3\"                          \"part_00_density_I4\"                         \n",
    "[129] \"part_00_density_I5\"                          \"part_00_density_I6\"                         \n",
    "[131] \"part_00_density_I1_norm\"                     \"part_00_density_I2_norm\"                    \n",
    "[133] \"part_00_density_I3_norm\"                     \"part_00_density_I4_norm\"                    \n",
    "[135] \"part_00_density_I5_norm\"                     \"part_00_density_I6_norm\"                    \n",
    "[137] \"part_00_density_M000\"                        \"part_00_density_CI\"                         \n",
    "[139] \"part_00_density_E3_E1\"                       \"part_00_density_E2_E1\"                      \n",
    "[141] \"part_00_density_E3_E2\"                       \"part_00_density_sqrt_E1\"                    \n",
    "[143] \"part_00_density_sqrt_E2\"                     \"part_00_density_sqrt_E3\"                    \n",
    "[145] \"part_00_shape_Z_7_3\"                         \"part_00_shape_Z_0_0\"                        \n",
    "[147] \"part_00_shape_Z_7_0\"                         \"part_00_shape_Z_7_1\"                        \n",
    "[149] \"part_00_shape_Z_3_0\"                         \"part_00_shape_Z_5_2\"                        \n",
    "[151] \"part_00_shape_Z_6_1\"                         \"part_00_shape_Z_3_1\"                        \n",
    "[153] \"part_00_shape_Z_6_0\"                         \"part_00_shape_Z_2_1\"                        \n",
    "[155] \"part_00_shape_Z_6_3\"                         \"part_00_shape_Z_2_0\"                        \n",
    "[157] \"part_00_shape_Z_6_2\"                         \"part_00_shape_Z_5_0\"                        \n",
    "[159] \"part_00_shape_Z_5_1\"                         \"part_00_shape_Z_4_2\"                        \n",
    "[161] \"part_00_shape_Z_1_0\"                         \"part_00_shape_Z_4_1\"                        \n",
    "[163] \"part_00_shape_Z_7_2\"                         \"part_00_shape_Z_4_0\"                        \n",
    "[165] \"part_00_density_Z_7_3\"                       \"part_00_density_Z_0_0\"                      \n",
    "[167] \"part_00_density_Z_7_0\"                       \"part_00_density_Z_7_1\"                      \n",
    "[169] \"part_00_density_Z_3_0\"                       \"part_00_density_Z_5_2\"                      \n",
    "[171] \"part_00_density_Z_6_1\"                       \"part_00_density_Z_3_1\"                      \n",
    "[173] \"part_00_density_Z_6_0\"                       \"part_00_density_Z_2_1\"                      \n",
    "[175] \"part_00_density_Z_6_3\"                       \"part_00_density_Z_2_0\"                      \n",
    "[177] \"part_00_density_Z_6_2\"                       \"part_00_density_Z_5_0\"                      \n",
    "[179] \"part_00_density_Z_5_1\"                       \"part_00_density_Z_4_2\"                      \n",
    "[181] \"part_00_density_Z_1_0\"                       \"part_00_density_Z_4_1\"                      \n",
    "[183] \"part_00_density_Z_7_2\"                       \"part_00_density_Z_4_0\"                      \n",
    "[185] \"part_01_shape_segments_count\"                \"part_01_density_segments_count\"             \n",
    "[187] \"part_01_volume\"                              \"part_01_electrons\"                          \n",
    "[189] \"part_01_mean\"                                \"part_01_std\"                                \n",
    "[191] \"part_01_max\"                                 \"part_01_max_over_std\"                       \n",
    "[193] \"part_01_skewness\"                            \"part_01_parts\"                              \n",
    "[195] \"part_01_shape_O3\"                            \"part_01_shape_O4\"                           \n",
    "[197] \"part_01_shape_O5\"                            \"part_01_shape_FL\"                           \n",
    "[199] \"part_01_shape_O3_norm\"                       \"part_01_shape_O4_norm\"                      \n",
    "[201] \"part_01_shape_O5_norm\"                       \"part_01_shape_FL_norm\"                      \n",
    "[203] \"part_01_shape_I1\"                            \"part_01_shape_I2\"                           \n",
    "[205] \"part_01_shape_I3\"                            \"part_01_shape_I4\"                           \n",
    "[207] \"part_01_shape_I5\"                            \"part_01_shape_I6\"                           \n",
    "[209] \"part_01_shape_I1_norm\"                       \"part_01_shape_I2_norm\"                      \n",
    "[211] \"part_01_shape_I3_norm\"                       \"part_01_shape_I4_norm\"                      \n",
    "[213] \"part_01_shape_I5_norm\"                       \"part_01_shape_I6_norm\"                      \n",
    "[215] \"part_01_shape_M000\"                          \"part_01_shape_CI\"                           \n",
    "[217] \"part_01_shape_E3_E1\"                         \"part_01_shape_E2_E1\"                        \n",
    "[219] \"part_01_shape_E3_E2\"                         \"part_01_shape_sqrt_E1\"                      \n",
    "[221] \"part_01_shape_sqrt_E2\"                       \"part_01_shape_sqrt_E3\"                      \n",
    "[223] \"part_01_density_O3\"                          \"part_01_density_O4\"                         \n",
    "[225] \"part_01_density_O5\"                          \"part_01_density_FL\"                         \n",
    "[227] \"part_01_density_O3_norm\"                     \"part_01_density_O4_norm\"                    \n",
    "[229] \"part_01_density_O5_norm\"                     \"part_01_density_FL_norm\"                    \n",
    "[231] \"part_01_density_I1\"                          \"part_01_density_I2\"                         \n",
    "[233] \"part_01_density_I3\"                          \"part_01_density_I4\"                         \n",
    "[235] \"part_01_density_I5\"                          \"part_01_density_I6\"                         \n",
    "[237] \"part_01_density_I1_norm\"                     \"part_01_density_I2_norm\"                    \n",
    "[239] \"part_01_density_I3_norm\"                     \"part_01_density_I4_norm\"                    \n",
    "[241] \"part_01_density_I5_norm\"                     \"part_01_density_I6_norm\"                    \n",
    "[243] \"part_01_density_M000\"                        \"part_01_density_CI\"                         \n",
    "[245] \"part_01_density_E3_E1\"                       \"part_01_density_E2_E1\"                      \n",
    "[247] \"part_01_density_E3_E2\"                       \"part_01_density_sqrt_E1\"                    \n",
    "[249] \"part_01_density_sqrt_E2\"                     \"part_01_density_sqrt_E3\"                    \n",
    "[251] \"part_01_shape_Z_7_3\"                         \"part_01_shape_Z_0_0\"                        \n",
    "[253] \"part_01_shape_Z_7_0\"                         \"part_01_shape_Z_7_1\"                        \n",
    "[255] \"part_01_shape_Z_3_0\"                         \"part_01_shape_Z_5_2\"                        \n",
    "[257] \"part_01_shape_Z_6_1\"                         \"part_01_shape_Z_3_1\"                        \n",
    "[259] \"part_01_shape_Z_6_0\"                         \"part_01_shape_Z_2_1\"                        \n",
    "[261] \"part_01_shape_Z_6_3\"                         \"part_01_shape_Z_2_0\"                        \n",
    "[263] \"part_01_shape_Z_6_2\"                         \"part_01_shape_Z_5_0\"                        \n",
    "[265] \"part_01_shape_Z_5_1\"                         \"part_01_shape_Z_4_2\"                        \n",
    "[267] \"part_01_shape_Z_1_0\"                         \"part_01_shape_Z_4_1\"                        \n",
    "[269] \"part_01_shape_Z_7_2\"                         \"part_01_shape_Z_4_0\"                        \n",
    "[271] \"part_01_density_Z_7_3\"                       \"part_01_density_Z_0_0\"                      \n",
    "[273] \"part_01_density_Z_7_0\"                       \"part_01_density_Z_7_1\"                      \n",
    "[275] \"part_01_density_Z_3_0\"                       \"part_01_density_Z_5_2\"                      \n",
    "[277] \"part_01_density_Z_6_1\"                       \"part_01_density_Z_3_1\"                      \n",
    "[279] \"part_01_density_Z_6_0\"                       \"part_01_density_Z_2_1\"                      \n",
    "[281] \"part_01_density_Z_6_3\"                       \"part_01_density_Z_2_0\"                      \n",
    "[283] \"part_01_density_Z_6_2\"                       \"part_01_density_Z_5_0\"                      \n",
    "[285] \"part_01_density_Z_5_1\"                       \"part_01_density_Z_4_2\"                      \n",
    "[287] \"part_01_density_Z_1_0\"                       \"part_01_density_Z_4_1\"                      \n",
    "[289] \"part_01_density_Z_7_2\"                       \"part_01_density_Z_4_0\"                      \n",
    "[291] \"part_02_shape_segments_count\"                \"part_02_density_segments_count\"             \n",
    "[293] \"part_02_volume\"                              \"part_02_electrons\"                          \n",
    "[295] \"part_02_mean\"                                \"part_02_std\"                                \n",
    "[297] \"part_02_max\"                                 \"part_02_max_over_std\"                       \n",
    "[299] \"part_02_skewness\"                            \"part_02_parts\"                              \n",
    "[301] \"part_02_shape_O3\"                            \"part_02_shape_O4\"                           \n",
    "[303] \"part_02_shape_O5\"                            \"part_02_shape_FL\"                           \n",
    "[305] \"part_02_shape_O3_norm\"                       \"part_02_shape_O4_norm\"                      \n",
    "[307] \"part_02_shape_O5_norm\"                       \"part_02_shape_FL_norm\"                      \n",
    "[309] \"part_02_shape_I1\"                            \"part_02_shape_I2\"                           \n",
    "[311] \"part_02_shape_I3\"                            \"part_02_shape_I4\"                           \n",
    "[313] \"part_02_shape_I5\"                            \"part_02_shape_I6\"                           \n",
    "[315] \"part_02_shape_I1_norm\"                       \"part_02_shape_I2_norm\"                      \n",
    "[317] \"part_02_shape_I3_norm\"                       \"part_02_shape_I4_norm\"                      \n",
    "[319] \"part_02_shape_I5_norm\"                       \"part_02_shape_I6_norm\"                      \n",
    "[321] \"part_02_shape_M000\"                          \"part_02_shape_CI\"                           \n",
    "[323] \"part_02_shape_E3_E1\"                         \"part_02_shape_E2_E1\"                        \n",
    "[325] \"part_02_shape_E3_E2\"                         \"part_02_shape_sqrt_E1\"                      \n",
    "[327] \"part_02_shape_sqrt_E2\"                       \"part_02_shape_sqrt_E3\"                      \n",
    "[329] \"part_02_density_O3\"                          \"part_02_density_O4\"                         \n",
    "[331] \"part_02_density_O5\"                          \"part_02_density_FL\"                         \n",
    "[333] \"part_02_density_O3_norm\"                     \"part_02_density_O4_norm\"                    \n",
    "[335] \"part_02_density_O5_norm\"                     \"part_02_density_FL_norm\"                    \n",
    "[337] \"part_02_density_I1\"                          \"part_02_density_I2\"                         \n",
    "[339] \"part_02_density_I3\"                          \"part_02_density_I4\"                         \n",
    "[341] \"part_02_density_I5\"                          \"part_02_density_I6\"                         \n",
    "[343] \"part_02_density_I1_norm\"                     \"part_02_density_I2_norm\"                    \n",
    "[345] \"part_02_density_I3_norm\"                     \"part_02_density_I4_norm\"                    \n",
    "[347] \"part_02_density_I5_norm\"                     \"part_02_density_I6_norm\"                    \n",
    "[349] \"part_02_density_M000\"                        \"part_02_density_CI\"                         \n",
    "[351] \"part_02_density_E3_E1\"                       \"part_02_density_E2_E1\"                      \n",
    "[353] \"part_02_density_E3_E2\"                       \"part_02_density_sqrt_E1\"                    \n",
    "[355] \"part_02_density_sqrt_E2\"                     \"part_02_density_sqrt_E3\"                    \n",
    "[357] \"part_02_shape_Z_7_3\"                         \"part_02_shape_Z_0_0\"                        \n",
    "[359] \"part_02_shape_Z_7_0\"                         \"part_02_shape_Z_7_1\"                        \n",
    "[361] \"part_02_shape_Z_3_0\"                         \"part_02_shape_Z_5_2\"                        \n",
    "[363] \"part_02_shape_Z_6_1\"                         \"part_02_shape_Z_3_1\"                        \n",
    "[365] \"part_02_shape_Z_6_0\"                         \"part_02_shape_Z_2_1\"                        \n",
    "[367] \"part_02_shape_Z_6_3\"                         \"part_02_shape_Z_2_0\"                        \n",
    "[369] \"part_02_shape_Z_6_2\"                         \"part_02_shape_Z_5_0\"                        \n",
    "[371] \"part_02_shape_Z_5_1\"                         \"part_02_shape_Z_4_2\"                        \n",
    "[373] \"part_02_shape_Z_1_0\"                         \"part_02_shape_Z_4_1\"                        \n",
    "[375] \"part_02_shape_Z_7_2\"                         \"part_02_shape_Z_4_0\"                        \n",
    "[377] \"part_02_density_Z_7_3\"                       \"part_02_density_Z_0_0\"                      \n",
    "[379] \"part_02_density_Z_7_0\"                       \"part_02_density_Z_7_1\"                      \n",
    "[381] \"part_02_density_Z_3_0\"                       \"part_02_density_Z_5_2\"                      \n",
    "[383] \"part_02_density_Z_6_1\"                       \"part_02_density_Z_3_1\"                      \n",
    "[385] \"part_02_density_Z_6_0\"                       \"part_02_density_Z_2_1\"                      \n",
    "[387] \"part_02_density_Z_6_3\"                       \"part_02_density_Z_2_0\"                      \n",
    "[389] \"part_02_density_Z_6_2\"                       \"part_02_density_Z_5_0\"                      \n",
    "[391] \"part_02_density_Z_5_1\"                       \"part_02_density_Z_4_2\"                      \n",
    "[393] \"part_02_density_Z_1_0\"                       \"part_02_density_Z_4_1\"                      \n",
    "[395] \"part_02_density_Z_7_2\"                       \"part_02_density_Z_4_0\"                      \n",
    "[397] \"fo_col\"                                      \"fc_col\"                                     \n",
    "[399] \"weight_col\"                                  \"grid_space\"                                 \n",
    "[401] \"solvent_radius\"                              \"solvent_opening_radius\"                     \n",
    "[403] \"resolution_max_limit\"                        \"resolution\"                                 \n",
    "[405] \"FoFc_mean\"                                   \"FoFc_std\"                                   \n",
    "[407] \"FoFc_square_std\"                             \"FoFc_min\"                                   \n",
    "[409] \"FoFc_max\"                                    \"part_step_FoFc_std_min\"                     \n",
    "[411] \"part_step_FoFc_std_max\"                      \"part_step_FoFc_std_step\" \n",
    "\"\"\"\n",
    "null"
   ]
  },
  {
   "cell_type": "code",
   "execution_count": 72,
   "metadata": {},
   "outputs": [
    {
     "data": {
      "text/plain": [
       "null"
      ]
     },
     "execution_count": 72,
     "metadata": {},
     "output_type": "execute_result"
    }
   ],
   "source": [
    "dfColNamesMatcher = dfColumnNamesString =~ /(?<=\\\")\\w+(?=\\\")/\n",
    "dfColNames = dfColNamesMatcher.findAll() as List\n",
    "null"
   ]
  },
  {
   "cell_type": "code",
   "execution_count": 76,
   "metadata": {},
   "outputs": [
    {
     "data": {
      "text/plain": [
       "[blob_coverage, res_coverage, pdb_code, blob_volume_coverage, blob_volume_coverage_second, res_volume_coverage, res_volume_coverage_second, skeleton_data, skeleton_cycle_4, skeleton_diameter, skeleton_cycle_6, skeleton_cycle_7, skeleton_closeness_006_008, skeleton_closeness_002_004, skeleton_cycle_3, skeleton_avg_degree, skeleton_closeness_004_006, skeleton_closeness_010_012, skeleton_closeness_012_014, skeleton_edges, skeleton_radius, skeleton_cycle_8_plus, skeleton_closeness_020_030, skeleton_deg_5_plus, skeleton_closeness_016_018, skeleton_closeness_008_010, skeleton_closeness_018_020, skeleton_average_clustering, skeleton_closeness_040_050, skeleton_closeness_014_016, skeleton_center, skeleton_closeness_000_002, skeleton_closeness_030_040, skeleton_deg_4, skeleton_deg_0, skeleton_deg_1, skeleton_deg_2, skeleton_deg_3, skeleton_graph_clique_number, skeleton_nodes, skeleton_cycles, skeleton_cycle_5, skeleton_closeness_050_plus, skeleton_periphery, local_cut_by_mainchain_volume, local_near_cut_count_C, local_near_cut_count_other, local_near_cut_count_S, local_near_cut_count_O, local_near_cut_count_N]"
      ]
     },
     "execution_count": 76,
     "metadata": {},
     "output_type": "execute_result"
    }
   ],
   "source": [
    "preprocessedColNames = colNames.collect { it.replace(\"XX\", \"\") }\n",
    "undescribedColNames = dfColNames.findAll { name -> !preprocessedColNames.any { name.contains(it) } }"
   ]
  },
  {
   "cell_type": "markdown",
   "metadata": {},
   "source": [
    "#### Description of all missing columns\n",
    "\\*coverage\\* - all such columns name are missing in the descriptions  \n",
    "pdb_code - should be \"pbd_code\"  \n",
    "\\*skeleton\\* - all such columns name are missing in the descriptions  \n",
    "\\*cut\\* - all such columns name are missing in the descriptions"
   ]
  },
  {
   "cell_type": "markdown",
   "metadata": {},
   "source": [
    "#### Validate if above statement is true"
   ]
  },
  {
   "cell_type": "code",
   "execution_count": 80,
   "metadata": {},
   "outputs": [
    {
     "data": {
      "text/plain": [
       "null"
      ]
     },
     "execution_count": 80,
     "metadata": {},
     "output_type": "execute_result"
    }
   ],
   "source": [
    "assert undescribedColNames.findAll { name -> ![\"coverage\", \"skeleton\", \"cut\"].any { name.contains(it) }  } == [\"pdb_code\"] "
   ]
  },
  {
   "cell_type": "code",
   "execution_count": null,
   "metadata": {},
   "outputs": [],
   "source": []
  }
 ],
 "metadata": {
  "kernelspec": {
   "display_name": "Groovy",
   "language": "groovy",
   "name": "groovy"
  },
  "language_info": {
   "codemirror_mode": "groovy",
   "file_extension": ".groovy",
   "mimetype": "",
   "name": "Groovy",
   "nbconverter_exporter": "",
   "version": "2.4.3"
  }
 },
 "nbformat": 4,
 "nbformat_minor": 2
}
